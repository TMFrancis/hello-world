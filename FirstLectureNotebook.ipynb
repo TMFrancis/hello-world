{
  "nbformat": 4,
  "nbformat_minor": 0,
  "metadata": {
    "colab": {
      "name": "FirstLectureNotebook.ipynb",
      "provenance": [],
      "toc_visible": true,
      "authorship_tag": "ABX9TyNWLoLAcpKZgCXdL/LskxG1",
      "include_colab_link": true
    },
    "kernelspec": {
      "name": "python3",
      "display_name": "Python 3"
    }
  },
  "cells": [
    {
      "cell_type": "markdown",
      "metadata": {
        "id": "view-in-github",
        "colab_type": "text"
      },
      "source": [
        "<a href=\"https://colab.research.google.com/github/TMFrancis/hello-world/blob/master/FirstLectureNotebook.ipynb\" target=\"_parent\"><img src=\"https://colab.research.google.com/assets/colab-badge.svg\" alt=\"Open In Colab\"/></a>"
      ]
    },
    {
      "cell_type": "code",
      "metadata": {
        "id": "85kDdvX3WQ4f",
        "colab_type": "code",
        "colab": {
          "base_uri": "https://localhost:8080/",
          "height": 306
        },
        "outputId": "61b2e0d7-df13-4019-bc07-357eb50e6547"
      },
      "source": [
        "print(\"Hello World\")\n",
        "for i in range(10):\n",
        "  print(i,\"times\")\n",
        "\n",
        "a=['Mary','had','a','little','lamb']\n",
        "for x in range(len(a)):\n",
        "  print(x,a[x])\n",
        "\n",
        "#my first comment in Python\n",
        "message = \"Python is the balls\"\n",
        "n=17\n",
        "pi=3.14159\n",
        "print(message)"
      ],
      "execution_count": 16,
      "outputs": [
        {
          "output_type": "stream",
          "text": [
            "Hello World\n",
            "0 times\n",
            "1 times\n",
            "2 times\n",
            "3 times\n",
            "4 times\n",
            "5 times\n",
            "6 times\n",
            "7 times\n",
            "8 times\n",
            "9 times\n",
            "0 Mary\n",
            "1 had\n",
            "2 a\n",
            "3 little\n",
            "4 lamb\n",
            "Python is the balls\n"
          ],
          "name": "stdout"
        }
      ]
    },
    {
      "cell_type": "code",
      "metadata": {
        "id": "hhnJsoNqdWoX",
        "colab_type": "code",
        "colab": {
          "base_uri": "https://localhost:8080/",
          "height": 34
        },
        "outputId": "aed57e41-32e2-4640-9169-a3acd87e15f9"
      },
      "source": [
        "n='4'\n",
        "o='2'\n",
        "p=n+o\n",
        "print(p)"
      ],
      "execution_count": 18,
      "outputs": [
        {
          "output_type": "stream",
          "text": [
            "42\n"
          ],
          "name": "stdout"
        }
      ]
    },
    {
      "cell_type": "code",
      "metadata": {
        "id": "042s2LG7YwPO",
        "colab_type": "code",
        "colab": {
          "base_uri": "https://localhost:8080/",
          "height": 85
        },
        "outputId": "85549e4f-2d3c-40ac-881b-01f1ce58d673"
      },
      "source": [
        "#my first comment in Python\n",
        "message = \"Python is the balls\"\n",
        "n=17\n",
        "pi=3.14159\n",
        "print(message)\n",
        "print(n)\n",
        "print(pi)\n",
        "type(message)\n",
        "type(n)\n",
        "type(pi)"
      ],
      "execution_count": 13,
      "outputs": [
        {
          "output_type": "stream",
          "text": [
            "Python is the balls\n",
            "17\n",
            "3.14159\n"
          ],
          "name": "stdout"
        },
        {
          "output_type": "execute_result",
          "data": {
            "text/plain": [
              "float"
            ]
          },
          "metadata": {
            "tags": []
          },
          "execution_count": 13
        }
      ]
    },
    {
      "cell_type": "code",
      "metadata": {
        "id": "x2S6ag6FbJEb",
        "colab_type": "code",
        "colab": {
          "base_uri": "https://localhost:8080/",
          "height": 34
        },
        "outputId": "8a4284b0-d178-4e66-9097-904644fe2a3a"
      },
      "source": [
        "type(message)\n",
        "type(n)\n",
        "type(pi)"
      ],
      "execution_count": 14,
      "outputs": [
        {
          "output_type": "execute_result",
          "data": {
            "text/plain": [
              "float"
            ]
          },
          "metadata": {
            "tags": []
          },
          "execution_count": 14
        }
      ]
    },
    {
      "cell_type": "code",
      "metadata": {
        "id": "C8LoN5gwZrlr",
        "colab_type": "code",
        "colab": {
          "base_uri": "https://localhost:8080/",
          "height": 51
        },
        "outputId": "47d314af-1c34-4fbd-b23c-fcbb4b8aea42"
      },
      "source": [
        "print(\"Python is the \\n BALLS!\")\n"
      ],
      "execution_count": 19,
      "outputs": [
        {
          "output_type": "stream",
          "text": [
            "Python is the \n",
            " BALLS!\n"
          ],
          "name": "stdout"
        }
      ]
    }
  ]
}